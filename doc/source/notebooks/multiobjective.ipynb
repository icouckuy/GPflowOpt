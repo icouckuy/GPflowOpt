{
 "cells": [
  {
   "cell_type": "markdown",
   "metadata": {},
   "source": [
    "# Bayesian Multiobjective Optimization\n",
    "*Joachim van der Herten, Ivo Couckuyt*"
   ]
  },
  {
   "cell_type": "markdown",
   "metadata": {},
   "source": [
    "## Introduction\n",
    "\n",
    "This notebook demonstrates the multiobjective optimization of an analytical function using the hypervolume-based probability of improvement function."
   ]
  },
  {
   "cell_type": "code",
   "execution_count": 2,
   "metadata": {
    "collapsed": true
   },
   "outputs": [],
   "source": [
    "%matplotlib inline\n",
    "from matplotlib import rc\n",
    "rc('text', usetex=True)\n",
    "import matplotlib.pyplot as plt\n",
    "\n",
    "import GPflow\n",
    "import GPflowOpt\n",
    "import numpy as np"
   ]
  },
  {
   "cell_type": "markdown",
   "metadata": {},
   "source": [
    "First we set up the objective functions (the Veldhuizen and Lamont multiobjective optimization problem 2 [vlmop2]). The vlmop2 function is a very easy problem. Ideal for illustrating Bayesian multiobjective optimization."
   ]
  },
  {
   "cell_type": "code",
   "execution_count": 3,
   "metadata": {},
   "outputs": [
    {
     "data": {
      "image/png": "[encoded data removed]",
      "text/plain": [
       "<matplotlib.figure.Figure at 0x7efd833af278>"
      ]
     },
     "metadata": {},
     "output_type": "display_data"
    }
   ],
   "source": [
    "# Objective\n",
    "def vlmop2(x):\n",
    "    transl = 1 / np.sqrt(2)\n",
    "    part1 = (x[:, [0]] - transl) ** 2 + (x[:, [1]] - transl) ** 2\n",
    "    part2 = (x[:, [0]] + transl) ** 2 + (x[:, [1]] + transl) ** 2\n",
    "    y1 = 1 - np.exp(-1 * part1)\n",
    "    y2 = 1 - np.exp(-1 * part2)\n",
    "    return np.hstack((y1, y2))\n",
    "\n",
    "# Setup input domain\n",
    "domain = GPflowOpt.domain.ContinuousParameter('x1', -2, 2) + \\\n",
    "         GPflowOpt.domain.ContinuousParameter('x2', -2, 2)\n",
    "\n",
    "# Plot\n",
    "def plotfx():  \n",
    "    X = GPflowOpt.design.FactorialDesign(101, domain).generate()\n",
    "    Z = vlmop2(X)\n",
    "    shape = (101, 101)\n",
    "    \n",
    "    axes = []\n",
    "    plt.figure(figsize=(15, 5))\n",
    "    for i in range(Z.shape[1]):\n",
    "        axes = axes + [plt.subplot2grid((1, 2), (0, i))]\n",
    "\n",
    "        axes[-1].contourf(X[:,0].reshape(shape), X[:,1].reshape(shape), Z[:,i].reshape(shape))\n",
    "        axes[-1].set_title('Objective {}'.format(i+1))\n",
    "        axes[-1].set_xlabel('$x_1$')\n",
    "        axes[-1].set_ylabel('$x_2$')\n",
    "        axes[-1].set_xlim([domain.lower[0], domain.upper[0]])\n",
    "        axes[-1].set_ylim([domain.lower[1], domain.upper[1]])\n",
    "    \n",
    "    return axes\n",
    "\n",
    "plotfx();"
   ]
  },
  {
   "cell_type": "markdown",
   "metadata": {},
   "source": [
    "## Multiobjective acquisition function\n",
    "\n",
    "We can model the belief of each objective by one GP prior or model each objective separately using a GP prior. We illustrate the latter approach here. A set of data points arranged in a Latin Hypercube is evaluated on the vlmop2 function.\n",
    "\n",
    "In multiobjective optimization the definition of improvement is ambigious. Here we define improvement using the contributing hypervolume and it ultimately determines the density and uniformity of the identified Pareto front. The hypervolume-based probability of improvement is based on the model(s) of the objective functions (vlmop2) and aggregates all the information in one cost function which is a balance between\n",
    "\n",
    "- improving our belief of the objectives (high uncertainty)\n",
    "- favoring points improving (large contributing hypervolume with potentially a higher uncertainty)\n",
    "- focussing on augmenting the Pareto front (small contributing hypervolume but with low uncertainty). "
   ]
  },
  {
   "cell_type": "code",
   "execution_count": 4,
   "metadata": {},
   "outputs": [],
   "source": [
    "# Initial evaluations\n",
    "design = GPflowOpt.design.LatinHyperCube(11, domain)\n",
    "X = design.generate()\n",
    "Y = vlmop2(X)\n",
    "\n",
    "# One model for each objective\n",
    "objective_models = [GPflow.gpr.GPR(X.copy(), Y[:,[i]].copy(), GPflow.kernels.Matern52(2, ARD=True)) for i in range(Y.shape[1])]\n",
    "for model in objective_models:\n",
    "    model.likelihood.variance = 0.01\n",
    "\n",
    "hvpoi = GPflowOpt.acquisition.HVProbabilityOfImprovement(objective_models)"
   ]
  },
  {
   "cell_type": "markdown",
   "metadata": {},
   "source": [
    "## Running the Bayesian optimizer\n",
    "\n",
    "The optimization surface of multiobjective acquisition functions can be even more challenging than, e.g., standard expected improvement. Hence, a hybrid optimization scheme is preferred: a Monte Carlo optimization step first, then optimize the point with the best value.\n",
    "\n",
    "We then run the Bayesian Optimization and allow it to select up to 20 additional decisions. "
   ]
  },
  {
   "cell_type": "code",
   "execution_count": 6,
   "metadata": {
    "scrolled": false
   },
   "outputs": [
    {
     "name": "stdout",
     "output_type": "stream",
     "text": [
      "     fun: array([[ 0.89026531,  0.24293158],\n",
      "       [ 0.63212056,  0.63212056],\n",
      "       [ 0.77740781,  0.45153434],\n",
      "       [ 0.36533437,  0.82775774],\n",
      "       [ 0.09721869,  0.94073427],\n",
      "       [ 0.02756077,  0.96532263],\n",
      "       [ 0.53277862,  0.72620558],\n",
      "       [ 0.23230157,  0.89643276],\n",
      "       [ 0.94408914,  0.09070062],\n",
      "       [ 0.83233952,  0.35688757],\n",
      "       [ 0.72583283,  0.53502404],\n",
      "       [ 0.9773906 ,  0.01051181],\n",
      "       [ 0.48099383,  0.75757911],\n",
      "       [ 0.00143733,  0.98415547],\n",
      "       [ 0.27244878,  0.87308971],\n",
      "       [ 0.67620567,  0.58745906],\n",
      "       [ 0.91838872,  0.16599301],\n",
      "       [ 0.86220361,  0.29578282],\n",
      "       [ 0.57998635,  0.68080399],\n",
      "       [ 0.42483673,  0.79366878]])\n",
      " message: 'OK'\n",
      "    nfev: 20\n",
      " success: True\n",
      "       x: array([[-0.26775474, -0.41509406],\n",
      "       [ 0.        ,  0.        ],\n",
      "       [-0.17807499, -0.14075356],\n",
      "       [ 0.21559915,  0.24550388],\n",
      "       [ 0.466847  ,  0.49603766],\n",
      "       [ 0.59937791,  0.57927023],\n",
      "       [ 0.16628713,  0.02266088],\n",
      "       [ 0.26707561,  0.44115404],\n",
      "       [-0.45172021, -0.53431042],\n",
      "       [-0.25589477, -0.21941483],\n",
      "       [-0.17229024, -0.01447351],\n",
      "       [-0.72928555, -0.60672973],\n",
      "       [ 0.12357536,  0.14556374],\n",
      "       [ 0.72376993,  0.74117594],\n",
      "       [ 0.29142439,  0.32595192],\n",
      "       [-0.00496395, -0.08067621],\n",
      "       [-0.46569517, -0.35605987],\n",
      "       [-0.28860536, -0.28814971],\n",
      "       [ 0.04818963,  0.04885436],\n",
      "       [ 0.18054584,  0.1819069 ]])\n"
     ]
    }
   ],
   "source": [
    "# First setup the optimization strategy for the acquisition function\n",
    "# Combining MC step followed by L-BFGS-B\n",
    "acquisition_opt = GPflowOpt.optim.StagedOptimizer([GPflowOpt.optim.MCOptimizer(domain, 1000), \n",
    "                                                   GPflowOpt.optim.SciPyOptimizer(domain)])\n",
    "\n",
    "# Then run the BayesianOptimizer for 20 iterations\n",
    "optimizer = GPflowOpt.BayesianOptimizer(domain, hvpoi, optimizer=acquisition_opt)\n",
    "with optimizer.silent():\n",
    "    result = optimizer.optimize([vlmop2], n_iter=20)\n",
    "\n",
    "print(result)"
   ]
  },
  {
   "cell_type": "markdown",
   "metadata": {},
   "source": [
    "For multiple objective functions the returned `OptimizeResult` object contains the identified Pareto set. \n",
    "\n",
    "## Plotting the results\n",
    "\n",
    "Lets plot the belief of the final models and acquisition function."
   ]
  },
  {
   "cell_type": "code",
   "execution_count": 12,
   "metadata": {
    "scrolled": false
   },
   "outputs": [
    {
     "name": "stdout",
     "output_type": "stream",
     "text": [
      "name.kern.\u001b[1mlengthscales\u001b[0m transform:+ve prior:None\n",
      "[ 0.57354961  0.58456292]\n",
      "name.kern.\u001b[1mvariance\u001b[0m transform:+ve prior:None\n",
      "[ 3.91689253]\n",
      "name.likelihood.\u001b[1mvariance\u001b[0m transform:+ve prior:None\n",
      "[  1.00000004e-06]\n",
      "\n",
      "name.kern.\u001b[1mlengthscales\u001b[0m transform:+ve prior:None\n",
      "[ 0.59112144  0.57841926]\n",
      "name.kern.\u001b[1mvariance\u001b[0m transform:+ve prior:None\n",
      "[ 3.29914908]\n",
      "name.likelihood.\u001b[1mvariance\u001b[0m transform:+ve prior:None\n",
      "[  1.00000006e-06]\n",
      "\n"
     ]
    },
    {
     "data": {
      "image/png": "[encoded data removed]",
      "text/plain": [
       "<matplotlib.figure.Figure at 0x7efd304c9e80>"
      ]
     },
     "metadata": {},
     "output_type": "display_data"
    }
   ],
   "source": [
    "def plot():\n",
    "    grid_size = 51  # 101\n",
    "    shape = (grid_size, grid_size)\n",
    "    \n",
    "    Xeval = GPflowOpt.design.FactorialDesign(grid_size, domain).generate()\n",
    "    \n",
    "    Yeval_1, _ = hvpoi.models[0].predict_f(Xeval)\n",
    "    Yeval_2, _ = hvpoi.models[1].predict_f(Xeval)\n",
    "            \n",
    "    Yevalc = hvpoi.evaluate(Xeval)\n",
    "    \n",
    "    plots = [((0,0), 1, 1, 'Objective 1 model', Yeval_1[:,0]),\n",
    "             ((0,1), 1, 1, 'Objective 2 model', Yeval_2[:,0]),\n",
    "             ((1,0), 2, 2, 'hypervolume-based PoI', Yevalc)]\n",
    "\n",
    "    plt.figure(figsize=(7,7))\n",
    "    for i, (plot_pos, plot_rowspan, plot_colspan, plot_title, plot_data) in enumerate(plots):\n",
    "        data = hvpoi.data[0]\n",
    "            \n",
    "        ax = plt.subplot2grid((3, 2), plot_pos, rowspan=plot_rowspan, colspan=plot_colspan)\n",
    "        ax.contourf(Xeval[:,0].reshape(shape), Xeval[:,1].reshape(shape), plot_data.reshape(shape))\n",
    "        ax.scatter(data[:,0], data[:,1], c='w')\n",
    "        ax.set_title(plot_title)\n",
    "        ax.set_xlabel('$x_1$')\n",
    "        ax.set_ylabel('$x_2$')\n",
    "        ax.set_xlim([domain.lower[0], domain.upper[0]])\n",
    "        ax.set_ylim([domain.lower[1], domain.upper[1]])\n",
    "    plt.tight_layout()\n",
    "    \n",
    "# Plot representing the model belief, and the belief mapped to EI and PoF\n",
    "plot()\n",
    "\n",
    "for model in objective_models:\n",
    "    print(model)"
   ]
  },
  {
   "cell_type": "markdown",
   "metadata": {},
   "source": [
    "Finally, we can extract and plot the Pareto front ourselves using the `non_dominated_sort` function of the `pareto` module on the final data matrix Y.\n",
    "\n",
    "It returns the Pareto set (non-dominated solutions) as well as a dominance vector which indicates by how many points each point is dominated by. For example, we could only select the points with dom == 1, or dom == 0 (the non-dominated solutions). Here we choose to use the dominance vector to color the points."
   ]
  },
  {
   "cell_type": "code",
   "execution_count": 23,
   "metadata": {
    "scrolled": false
   },
   "outputs": [
    {
     "name": "stdout",
     "output_type": "stream",
     "text": [
      "R: [ 1.5  1.5]\n",
      "Hypervolume indicator: 1.55990422492\n"
     ]
    },
    {
     "data": {
      "text/plain": [
       "<matplotlib.text.Text at 0x7efd2c5320f0>"
      ]
     },
     "execution_count": 23,
     "metadata": {},
     "output_type": "execute_result"
    },
    {
     "data": {
      "text/plain": [
       "<matplotlib.figure.Figure at 0x7efd2c4d4400>"
      ]
     },
     "metadata": {},
     "output_type": "display_data"
    },
    {
     "data": {
      "image/png": "[encoded data removed]",
      "text/plain": [
       "<matplotlib.figure.Figure at 0x7efd2c9e0ac8>"
      ]
     },
     "metadata": {},
     "output_type": "display_data"
    }
   ],
   "source": [
    "# plot pareto front\n",
    "plt.figure(figsize=(9, 4))\n",
    "\n",
    "R = np.array([1.5, 1.5])\n",
    "print('R:', R)\n",
    "hv = hvpoi.pareto.hypervolume(R)\n",
    "print('Hypervolume indicator:', hv)\n",
    "\n",
    "plt.figure(figsize=(7, 7))\n",
    "\n",
    "pf, dom = GPflowOpt.pareto.non_dominated_sort(hvpoi.data[1])\n",
    "\n",
    "plt.scatter(hvpoi.data[1][:,0], hvpoi.data[1][:,1], c=dom)\n",
    "plt.title('Pareto set')\n",
    "plt.xlabel('Objective 1')\n",
    "plt.ylabel('Objective 2')"
   ]
  }
 ],
 "metadata": {
  "kernelspec": {
   "display_name": "Python 3",
   "language": "python",
   "name": "python3"
  },
  "language_info": {
   "codemirror_mode": {
    "name": "ipython",
    "version": 3
   },
   "file_extension": ".py",
   "mimetype": "text/x-python",
   "name": "python",
   "nbconvert_exporter": "python",
   "pygments_lexer": "ipython3",
   "version": "3.6.1"
  }
 },
 "nbformat": 4,
 "nbformat_minor": 1
}
